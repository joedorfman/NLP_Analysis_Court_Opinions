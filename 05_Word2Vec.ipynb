{
 "cells": [
  {
   "cell_type": "code",
   "execution_count": 1,
   "metadata": {},
   "outputs": [],
   "source": [
    "import pandas as pd\n",
    "import numpy as np\n",
    "from nltk.tokenize import RegexpTokenizer\n",
    "from nltk.stem import PorterStemmer\n",
    "from nltk.corpus import stopwords\n",
    "import re\n",
    "from nltk.stem.wordnet import WordNetLemmatizer\n",
    "from nltk import data\n",
    "from gensim.models import word2vec\n",
    "from sklearn.decomposition import PCA\n",
    "import matplotlib.pyplot as plt\n",
    "from sklearn.preprocessing import StandardScaler\n",
    "from sklearn.manifold import TSNE\n",
    "from sklearn.metrics.pairwise import pairwise_distances, cosine_similarity\n",
    "import seaborn as sns\n",
    "import math\n",
    "\n",
    "np.random.seed(42)"
   ]
  },
  {
   "cell_type": "markdown",
   "metadata": {},
   "source": [
    "# A. Compare the arrangement of cases in \"citation space\" and the arrangement of cases in Word2Vec \"embedding space\""
   ]
  },
  {
   "cell_type": "code",
   "execution_count": 2,
   "metadata": {},
   "outputs": [],
   "source": [
    "# Load in my Word2Vec model\n",
    "\n",
    "model = word2vec.Word2Vec.load('./assets/100features_40minwords_40context')"
   ]
  },
  {
   "cell_type": "code",
   "execution_count": 3,
   "metadata": {},
   "outputs": [],
   "source": [
    "# Load in processed full text of the court cases\n",
    "\n",
    "df=pd.read_pickle('./assets/processed_text')"
   ]
  },
  {
   "cell_type": "code",
   "execution_count": 4,
   "metadata": {},
   "outputs": [],
   "source": [
    "# Drop cases that lack all case citation information\n",
    "\n",
    "df=df.dropna(subset=['citation'])"
   ]
  },
  {
   "cell_type": "code",
   "execution_count": 5,
   "metadata": {},
   "outputs": [],
   "source": [
    "# Clean up the citation entries, so that they are strings, not strings \n",
    "# contained in a list.\n",
    "\n",
    "df['citation']=df['citation'].map(lambda x: x[0])"
   ]
  },
  {
   "cell_type": "code",
   "execution_count": 6,
   "metadata": {},
   "outputs": [],
   "source": [
    "df=df.drop_duplicates(subset=['citation'])"
   ]
  },
  {
   "cell_type": "code",
   "execution_count": 7,
   "metadata": {},
   "outputs": [],
   "source": [
    "# from https://github.com/sdimi/average-word2vec/blob/master/avg_word2vec_from_documents.py\n",
    "\n",
    "def avg_document_vector(word2vec_model, doc):\n",
    "    # remove out-of-vocabulary words\n",
    "    doc = [word for word in doc if word in word2vec_model.wv.vocab]\n",
    "    return np.mean(word2vec_model.wv[doc], axis=0)"
   ]
  },
  {
   "cell_type": "code",
   "execution_count": 8,
   "metadata": {},
   "outputs": [],
   "source": [
    "# Get the average document vector for every circuit court case\n",
    "\n",
    "doc_vectors=[avg_document_vector(model, doc) for doc in df['text2']]\n"
   ]
  },
  {
   "cell_type": "code",
   "execution_count": 9,
   "metadata": {},
   "outputs": [],
   "source": [
    "# Stack dcoument vectors into a 2-D array\n",
    "\n",
    "X=np.vstack(doc_vectors)"
   ]
  },
  {
   "cell_type": "code",
   "execution_count": 10,
   "metadata": {},
   "outputs": [],
   "source": [
    "# Put the Word2Vec embeddings into a dataframe\n",
    "\n",
    "dfX=pd.DataFrame(X, index=df['citation'])"
   ]
  },
  {
   "cell_type": "code",
   "execution_count": 11,
   "metadata": {},
   "outputs": [
    {
     "data": {
      "text/plain": [
       "(141, 100)"
      ]
     },
     "execution_count": 11,
     "metadata": {},
     "output_type": "execute_result"
    }
   ],
   "source": [
    "dfX.shape"
   ]
  },
  {
   "cell_type": "code",
   "execution_count": 12,
   "metadata": {},
   "outputs": [],
   "source": [
    "# Calculate cosin distance between each circuit court case\n",
    "# in terms of Word2Vec embeddings\n",
    "\n",
    "distances=pairwise_distances(dfX, metric='cosine')"
   ]
  },
  {
   "cell_type": "code",
   "execution_count": 13,
   "metadata": {},
   "outputs": [],
   "source": [
    "# Organize distances into a dataframe\n",
    "\n",
    "df_distances=pd.DataFrame(distances, index=dfX.index, columns=dfX.index)"
   ]
  },
  {
   "cell_type": "code",
   "execution_count": 14,
   "metadata": {},
   "outputs": [],
   "source": [
    "# Import inter-case distances, in terms of \n",
    "# similar patterns of case citation, i.e., cases that were \n",
    "# similarly cited/recommended by users (i.e., lower courts)\n",
    "\n",
    "rec_distances=pd.read_pickle('./assets/case_recommender')"
   ]
  },
  {
   "cell_type": "code",
   "execution_count": 15,
   "metadata": {},
   "outputs": [],
   "source": [
    "# Remove a duplicate row that was lurking in the table\n",
    "\n",
    "rec_distances=rec_distances.drop_duplicates().T.drop_duplicates().T"
   ]
  },
  {
   "cell_type": "code",
   "execution_count": 16,
   "metadata": {},
   "outputs": [],
   "source": [
    "# The support for the two different pair distance matrices is not \n",
    "# quite the same.  Can only compare for the subset of court cases\n",
    "# for which we have inter-case distances based both on similar Word2Vec\n",
    "# embeddings and based on similiar citation.\n",
    "\n",
    "overlap=list(set(rec_distances.columns)&set(df_distances.columns))"
   ]
  },
  {
   "cell_type": "code",
   "execution_count": 17,
   "metadata": {},
   "outputs": [],
   "source": [
    "word_distances=df_distances[overlap].T[overlap].T"
   ]
  },
  {
   "cell_type": "code",
   "execution_count": 18,
   "metadata": {},
   "outputs": [],
   "source": [
    "cite_distances=rec_distances[overlap].T[overlap].T"
   ]
  },
  {
   "cell_type": "code",
   "execution_count": 19,
   "metadata": {},
   "outputs": [
    {
     "data": {
      "text/plain": [
       "(126, 126)"
      ]
     },
     "execution_count": 19,
     "metadata": {},
     "output_type": "execute_result"
    }
   ],
   "source": [
    "word_distances.shape"
   ]
  },
  {
   "cell_type": "code",
   "execution_count": 20,
   "metadata": {},
   "outputs": [
    {
     "data": {
      "text/plain": [
       "(126, 126)"
      ]
     },
     "execution_count": 20,
     "metadata": {},
     "output_type": "execute_result"
    }
   ],
   "source": [
    "cite_distances.shape"
   ]
  },
  {
   "cell_type": "code",
   "execution_count": 21,
   "metadata": {},
   "outputs": [],
   "source": [
    "# Excluding the distance of an object from itself, when computing correlations,\n",
    "# because distance to oneself is always perfeclty correllated between any metric system.\n",
    "# Always = 0 for any metric system.\n",
    "\n",
    "corr_list=[]\n",
    "for item in word_distances.columns:\n",
    "    xvals=[x for x in cite_distances[item] if x != 0]\n",
    "    yvals=[y for y in word_distances[item] if y != 0]\n",
    "    corr_list+=[np.corrcoef(xvals, yvals)[0][1]]\n",
    "    "
   ]
  },
  {
   "cell_type": "code",
   "execution_count": 22,
   "metadata": {},
   "outputs": [
    {
     "data": {
      "image/png": "[encoded data removed]",
      "text/plain": [
       "<Figure size 432x288 with 1 Axes>"
      ]
     },
     "metadata": {},
     "output_type": "display_data"
    }
   ],
   "source": [
    "\n",
    "for item in ['816 F.2d 1376']:\n",
    "    xvals=[x for x in cite_distances[item] if x != 0]\n",
    "    yvals=[y for y in word_distances[item] if y != 0]\n",
    "    \n",
    "    dfplot=pd.DataFrame({'distance from 816 F.2d 1376 in citation space':xvals, \n",
    "                  'distance from 816 F.2d 1376 in Word2Vec space':yvals})\n",
    "    sns.regplot(dfplot['distance from 816 F.2d 1376 in citation space'],\n",
    "               dfplot['distance from 816 F.2d 1376 in Word2Vec space'])\n",
    "    plt.savefig('./assets/sample.png')"
   ]
  },
  {
   "cell_type": "code",
   "execution_count": 23,
   "metadata": {},
   "outputs": [
    {
     "data": {
      "image/png": "[encoded data removed]",
      "text/plain": [
       "<Figure size 432x288 with 1 Axes>"
      ]
     },
     "metadata": {},
     "output_type": "display_data"
    }
   ],
   "source": [
    "plt.hist(corr_list, bins=10)\n",
    "plt.axvline(.218, color=\"red\", ls='--')\n",
    "plt.axvline(.243, color=\"red\", ls='--')\n",
    "plt.axvspan(.218, .243, alpha=0.5, color='red')\n",
    "plt.xlabel('corelation value')\n",
    "plt.ylabel('number of cases that had this corelation')\n",
    "plt.savefig('./assets/avgcorr')"
   ]
  },
  {
   "cell_type": "code",
   "execution_count": 24,
   "metadata": {},
   "outputs": [
    {
     "data": {
      "text/plain": [
       "0.2191299345858667"
      ]
     },
     "execution_count": 24,
     "metadata": {},
     "output_type": "execute_result"
    }
   ],
   "source": [
    "np.mean(corr_list)"
   ]
  },
  {
   "cell_type": "markdown",
   "metadata": {},
   "source": [
    "# B. Run a bootstrapping analysis to understand the variability of the average correllation."
   ]
  },
  {
   "cell_type": "code",
   "execution_count": 25,
   "metadata": {},
   "outputs": [
    {
     "data": {
      "text/plain": [
       "126"
      ]
     },
     "execution_count": 25,
     "metadata": {},
     "output_type": "execute_result"
    }
   ],
   "source": [
    "len(corr_list)"
   ]
  },
  {
   "cell_type": "code",
   "execution_count": 26,
   "metadata": {},
   "outputs": [],
   "source": [
    "def get_bootstrap_mean(corr_list):\n",
    "    newlist=[]\n",
    "    for i in range(len(corr_list)):\n",
    "        newlist.append(np.random.choice(corr_list))\n",
    "    return np.mean(newlist)"
   ]
  },
  {
   "cell_type": "code",
   "execution_count": 27,
   "metadata": {},
   "outputs": [],
   "source": [
    "boot_mean_list=[]\n",
    "for i in range(10000):\n",
    "    boot_mean_list.append(get_bootstrap_mean(corr_list))"
   ]
  },
  {
   "cell_type": "code",
   "execution_count": 28,
   "metadata": {},
   "outputs": [],
   "source": [
    "boot_means=pd.Series(boot_mean_list)"
   ]
  },
  {
   "cell_type": "code",
   "execution_count": 29,
   "metadata": {},
   "outputs": [
    {
     "data": {
      "text/plain": [
       "<matplotlib.axes._subplots.AxesSubplot at 0x1a1f6f8908>"
      ]
     },
     "execution_count": 29,
     "metadata": {},
     "output_type": "execute_result"
    },
    {
     "data": {
      "image/png": "[encoded data removed]",
      "text/plain": [
       "<Figure size 432x288 with 1 Axes>"
      ]
     },
     "metadata": {},
     "output_type": "display_data"
    }
   ],
   "source": [
    "boot_means.hist(bins=20)"
   ]
  },
  {
   "cell_type": "code",
   "execution_count": 30,
   "metadata": {},
   "outputs": [],
   "source": [
    "boot_mean_list.sort()"
   ]
  },
  {
   "cell_type": "code",
   "execution_count": 31,
   "metadata": {},
   "outputs": [
    {
     "data": {
      "text/plain": [
       "0.193724724846355"
      ]
     },
     "execution_count": 31,
     "metadata": {},
     "output_type": "execute_result"
    }
   ],
   "source": [
    "boot_mean_list[250]"
   ]
  },
  {
   "cell_type": "code",
   "execution_count": 32,
   "metadata": {},
   "outputs": [
    {
     "data": {
      "text/plain": [
       "0.243893035503264"
      ]
     },
     "execution_count": 32,
     "metadata": {},
     "output_type": "execute_result"
    }
   ],
   "source": [
    "boot_mean_list[-250]"
   ]
  },
  {
   "cell_type": "code",
   "execution_count": 33,
   "metadata": {},
   "outputs": [
    {
     "data": {
      "text/plain": [
       "0.21914947780453994"
      ]
     },
     "execution_count": 33,
     "metadata": {},
     "output_type": "execute_result"
    }
   ],
   "source": [
    "boot_mean_list[5000]"
   ]
  },
  {
   "cell_type": "code",
   "execution_count": 34,
   "metadata": {},
   "outputs": [],
   "source": [
    "# We are 95% confident that the average correllation between the Word2Vec embedding\n",
    "# distance and the Citation-based distance is between .218 and .243."
   ]
  },
  {
   "cell_type": "code",
   "execution_count": null,
   "metadata": {},
   "outputs": [],
   "source": []
  }
 ],
 "metadata": {
  "kernelspec": {
   "display_name": "Python 3",
   "language": "python",
   "name": "python3"
  },
  "language_info": {
   "codemirror_mode": {
    "name": "ipython",
    "version": 3
   },
   "file_extension": ".py",
   "mimetype": "text/x-python",
   "name": "python",
   "nbconvert_exporter": "python",
   "pygments_lexer": "ipython3",
   "version": "3.6.5"
  }
 },
 "nbformat": 4,
 "nbformat_minor": 2
}
