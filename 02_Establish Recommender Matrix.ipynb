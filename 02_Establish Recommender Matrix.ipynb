{
 "cells": [
  {
   "cell_type": "code",
   "execution_count": 1,
   "metadata": {},
   "outputs": [],
   "source": [
    "import pandas as pd\n",
    "import numpy as np\n",
    "\n",
    "from scipy import sparse\n",
    "from sklearn.metrics.pairwise import pairwise_distances, cosine_similarity\n",
    "\n",
    "np.random.seed(42)"
   ]
  },
  {
   "cell_type": "code",
   "execution_count": 2,
   "metadata": {},
   "outputs": [],
   "source": [
    "# Appeals court data from the 9th circuit\n",
    "    \n",
    "cir=pd.read_pickle('./circuit')"
   ]
  },
  {
   "cell_type": "code",
   "execution_count": 3,
   "metadata": {},
   "outputs": [],
   "source": [
    "# District court data from all district courts\n",
    "\n",
    "all_dis=pd.read_pickle('./alldistrict')"
   ]
  },
  {
   "cell_type": "code",
   "execution_count": 4,
   "metadata": {},
   "outputs": [
    {
     "data": {
      "text/plain": [
       "(260, 39)"
      ]
     },
     "execution_count": 4,
     "metadata": {},
     "output_type": "execute_result"
    }
   ],
   "source": [
    "all_dis.shape"
   ]
  },
  {
   "cell_type": "code",
   "execution_count": 5,
   "metadata": {},
   "outputs": [],
   "source": [
    "# Get IDs of appellate court opinions\n",
    "\n",
    "cir_ids=list(cir['id'])"
   ]
  },
  {
   "cell_type": "code",
   "execution_count": 6,
   "metadata": {},
   "outputs": [],
   "source": [
    "# Get IDs of trial court opinions from a broader set of jurisdictions\n",
    "\n",
    "all_dis_ids=list(all_dis['id'])"
   ]
  },
  {
   "cell_type": "code",
   "execution_count": 7,
   "metadata": {},
   "outputs": [],
   "source": [
    "# Get the connections table, which lists all citation links between all court cases in U.S. federal jurisprudence\n",
    "\n",
    "connections = pd.read_csv('./all.csv')"
   ]
  },
  {
   "cell_type": "code",
   "execution_count": 8,
   "metadata": {},
   "outputs": [],
   "source": [
    "# We're interested how 9th circuit cases are cited by other 9th circuit cases on the same topic, and by \n",
    "#district courts throughout the whole U.S. that are dealing with this topic.\n",
    "\n",
    "appel_and_cir=all_dis_ids+cir_ids"
   ]
  },
  {
   "cell_type": "code",
   "execution_count": 9,
   "metadata": {},
   "outputs": [],
   "source": [
    "# Filter the citation table to those where the cited opinion is in the list of 9th circuit cases we pulled\n",
    "# and the citing opinion is in the list of 9th circuit and district court cases we pulled.\n",
    "\n",
    "all_connections_list=connections.loc[(connections['citing_opinion_id'].isin(appel_and_cir))&\n",
    "(connections['cited_opinion_id'].isin(cir_ids))]\n"
   ]
  },
  {
   "cell_type": "code",
   "execution_count": 10,
   "metadata": {},
   "outputs": [
    {
     "data": {
      "text/plain": [
       "(2173, 2)"
      ]
     },
     "execution_count": 10,
     "metadata": {},
     "output_type": "execute_result"
    }
   ],
   "source": [
    "all_connections_list.shape"
   ]
  },
  {
   "cell_type": "code",
   "execution_count": 11,
   "metadata": {},
   "outputs": [],
   "source": [
    "# Mark every citation as if it were a user giving a recommendation of \"1\" to the cited case.\n",
    "\n",
    "all_connections_list=all_connections_list.copy()\n",
    "all_connections_list['link']=1"
   ]
  },
  {
   "cell_type": "code",
   "execution_count": 12,
   "metadata": {},
   "outputs": [],
   "source": [
    "# Merge in data on every instance of a cited opinion from the 9th circuit\n",
    "\n",
    "all_connections_list=pd.merge(all_connections_list, \n",
    "         cir, \n",
    "         left_on='cited_opinion_id',\n",
    "         right_on='id')"
   ]
  },
  {
   "cell_type": "code",
   "execution_count": 13,
   "metadata": {},
   "outputs": [],
   "source": [
    "# Convert from a list to the string contained in the list\n",
    "\n",
    "\n",
    "all_connections_list['citation']=all_connections_list['citation'].map(lambda x: x[0])"
   ]
  },
  {
   "cell_type": "code",
   "execution_count": 14,
   "metadata": {},
   "outputs": [],
   "source": [
    "# Create a pivot table from the list of citation linkages\n",
    "\n",
    "\n",
    "all_pivot=pd.pivot_table(all_connections_list, \n",
    "                    index='citing_opinion_id',\n",
    "                    columns='citation',\n",
    "                    values='link')\n"
   ]
  },
  {
   "cell_type": "code",
   "execution_count": 15,
   "metadata": {},
   "outputs": [
    {
     "data": {
      "text/plain": [
       "(464, 141)"
      ]
     },
     "execution_count": 15,
     "metadata": {},
     "output_type": "execute_result"
    }
   ],
   "source": [
    "all_pivot.shape"
   ]
  },
  {
   "cell_type": "code",
   "execution_count": 16,
   "metadata": {},
   "outputs": [],
   "source": [
    "# Rotate so that the 146 different circuit court decisions are the rows, and the \n",
    "# 627 citing  cases are features\n",
    "\n",
    "all_pivot=all_pivot.T"
   ]
  },
  {
   "cell_type": "code",
   "execution_count": 17,
   "metadata": {},
   "outputs": [
    {
     "data": {
      "text/plain": [
       "(141, 464)"
      ]
     },
     "execution_count": 17,
     "metadata": {},
     "output_type": "execute_result"
    }
   ],
   "source": [
    "all_pivot.shape"
   ]
  },
  {
   "cell_type": "code",
   "execution_count": 18,
   "metadata": {},
   "outputs": [],
   "source": [
    "# Convert pivot to sparse matrix and fill in NAs with 0s\n",
    "\n",
    "all_sparse_pivot=sparse.csr_matrix(all_pivot.fillna(0))"
   ]
  },
  {
   "cell_type": "code",
   "execution_count": 19,
   "metadata": {},
   "outputs": [
    {
     "data": {
      "text/plain": [
       "(141, 464)"
      ]
     },
     "execution_count": 19,
     "metadata": {},
     "output_type": "execute_result"
    }
   ],
   "source": [
    "all_sparse_pivot.shape"
   ]
  },
  {
   "cell_type": "code",
   "execution_count": 20,
   "metadata": {},
   "outputs": [],
   "source": [
    "# Calculate distance between each circuit court case\n",
    "\n",
    "all_distances=pairwise_distances(all_sparse_pivot, metric='cosine')"
   ]
  },
  {
   "cell_type": "code",
   "execution_count": 21,
   "metadata": {},
   "outputs": [
    {
     "data": {
      "text/plain": [
       "(141, 141)"
      ]
     },
     "execution_count": 21,
     "metadata": {},
     "output_type": "execute_result"
    }
   ],
   "source": [
    "all_distances.shape"
   ]
  },
  {
   "cell_type": "code",
   "execution_count": 22,
   "metadata": {},
   "outputs": [],
   "source": [
    "# \"Recommender table\" showing how different the citation patterns are between one circuit court case and another \n",
    "\n",
    "broader_cir_distance=pd.DataFrame(all_distances, index=all_pivot.index, columns=all_pivot.index)"
   ]
  },
  {
   "cell_type": "code",
   "execution_count": 23,
   "metadata": {},
   "outputs": [
    {
     "data": {
      "text/html": [
       "<div>\n",
       "<style scoped>\n",
       "    .dataframe tbody tr th:only-of-type {\n",
       "        vertical-align: middle;\n",
       "    }\n",
       "\n",
       "    .dataframe tbody tr th {\n",
       "        vertical-align: top;\n",
       "    }\n",
       "\n",
       "    .dataframe thead th {\n",
       "        text-align: right;\n",
       "    }\n",
       "</style>\n",
       "<table border=\"1\" class=\"dataframe\">\n",
       "  <thead>\n",
       "    <tr style=\"text-align: right;\">\n",
       "      <th>citation</th>\n",
       "      <th>100 F.3d 1443</th>\n",
       "      <th>109 F.3d 1484</th>\n",
       "      <th>109 F.3d 521</th>\n",
       "      <th>111 F.3d 1447</th>\n",
       "      <th>117 F.3d 1520</th>\n",
       "      <th>123 F.3d 1142</th>\n",
       "      <th>126 F.3d 1118</th>\n",
       "      <th>14 F.3d 1324</th>\n",
       "      <th>142 F.3d 1170</th>\n",
       "      <th>143 F.3d 515</th>\n",
       "      <th>...</th>\n",
       "      <th>952 F.2d 297</th>\n",
       "      <th>954 F.2d 1441</th>\n",
       "      <th>958 F.2d 290</th>\n",
       "      <th>96 F.3d 434</th>\n",
       "      <th>97 F.3d 1161</th>\n",
       "      <th>982 F.2d 1342</th>\n",
       "      <th>985 F.2d 1397</th>\n",
       "      <th>986 F.2d 1568</th>\n",
       "      <th>99 F.3d 334</th>\n",
       "      <th>998 F.2d 699</th>\n",
       "    </tr>\n",
       "    <tr>\n",
       "      <th>citation</th>\n",
       "      <th></th>\n",
       "      <th></th>\n",
       "      <th></th>\n",
       "      <th></th>\n",
       "      <th></th>\n",
       "      <th></th>\n",
       "      <th></th>\n",
       "      <th></th>\n",
       "      <th></th>\n",
       "      <th></th>\n",
       "      <th></th>\n",
       "      <th></th>\n",
       "      <th></th>\n",
       "      <th></th>\n",
       "      <th></th>\n",
       "      <th></th>\n",
       "      <th></th>\n",
       "      <th></th>\n",
       "      <th></th>\n",
       "      <th></th>\n",
       "      <th></th>\n",
       "    </tr>\n",
       "  </thead>\n",
       "  <tbody>\n",
       "    <tr>\n",
       "      <th>100 F.3d 1443</th>\n",
       "      <td>0.000000</td>\n",
       "      <td>1.0</td>\n",
       "      <td>0.857143</td>\n",
       "      <td>1.0</td>\n",
       "      <td>0.923640</td>\n",
       "      <td>0.840833</td>\n",
       "      <td>0.812956</td>\n",
       "      <td>0.838376</td>\n",
       "      <td>1.0</td>\n",
       "      <td>0.776895</td>\n",
       "      <td>...</td>\n",
       "      <td>1.0</td>\n",
       "      <td>0.857143</td>\n",
       "      <td>0.840281</td>\n",
       "      <td>0.878171</td>\n",
       "      <td>0.857143</td>\n",
       "      <td>1.0</td>\n",
       "      <td>1.0</td>\n",
       "      <td>0.859087</td>\n",
       "      <td>0.917521</td>\n",
       "      <td>0.96182</td>\n",
       "    </tr>\n",
       "    <tr>\n",
       "      <th>109 F.3d 1484</th>\n",
       "      <td>1.000000</td>\n",
       "      <td>0.0</td>\n",
       "      <td>1.000000</td>\n",
       "      <td>1.0</td>\n",
       "      <td>1.000000</td>\n",
       "      <td>1.000000</td>\n",
       "      <td>1.000000</td>\n",
       "      <td>1.000000</td>\n",
       "      <td>1.0</td>\n",
       "      <td>1.000000</td>\n",
       "      <td>...</td>\n",
       "      <td>1.0</td>\n",
       "      <td>1.000000</td>\n",
       "      <td>1.000000</td>\n",
       "      <td>1.000000</td>\n",
       "      <td>1.000000</td>\n",
       "      <td>1.0</td>\n",
       "      <td>1.0</td>\n",
       "      <td>0.835601</td>\n",
       "      <td>1.000000</td>\n",
       "      <td>1.00000</td>\n",
       "    </tr>\n",
       "    <tr>\n",
       "      <th>109 F.3d 521</th>\n",
       "      <td>0.857143</td>\n",
       "      <td>1.0</td>\n",
       "      <td>0.000000</td>\n",
       "      <td>1.0</td>\n",
       "      <td>0.933185</td>\n",
       "      <td>0.767881</td>\n",
       "      <td>0.890891</td>\n",
       "      <td>0.858579</td>\n",
       "      <td>1.0</td>\n",
       "      <td>0.960957</td>\n",
       "      <td>...</td>\n",
       "      <td>1.0</td>\n",
       "      <td>0.937500</td>\n",
       "      <td>1.000000</td>\n",
       "      <td>0.946700</td>\n",
       "      <td>1.000000</td>\n",
       "      <td>1.0</td>\n",
       "      <td>1.0</td>\n",
       "      <td>0.917801</td>\n",
       "      <td>1.000000</td>\n",
       "      <td>1.00000</td>\n",
       "    </tr>\n",
       "    <tr>\n",
       "      <th>111 F.3d 1447</th>\n",
       "      <td>1.000000</td>\n",
       "      <td>1.0</td>\n",
       "      <td>1.000000</td>\n",
       "      <td>0.0</td>\n",
       "      <td>1.000000</td>\n",
       "      <td>1.000000</td>\n",
       "      <td>1.000000</td>\n",
       "      <td>1.000000</td>\n",
       "      <td>1.0</td>\n",
       "      <td>1.000000</td>\n",
       "      <td>...</td>\n",
       "      <td>1.0</td>\n",
       "      <td>1.000000</td>\n",
       "      <td>1.000000</td>\n",
       "      <td>1.000000</td>\n",
       "      <td>1.000000</td>\n",
       "      <td>1.0</td>\n",
       "      <td>1.0</td>\n",
       "      <td>1.000000</td>\n",
       "      <td>1.000000</td>\n",
       "      <td>1.00000</td>\n",
       "    </tr>\n",
       "    <tr>\n",
       "      <th>117 F.3d 1520</th>\n",
       "      <td>0.923640</td>\n",
       "      <td>1.0</td>\n",
       "      <td>0.933185</td>\n",
       "      <td>1.0</td>\n",
       "      <td>0.000000</td>\n",
       "      <td>0.900742</td>\n",
       "      <td>1.000000</td>\n",
       "      <td>0.735425</td>\n",
       "      <td>1.0</td>\n",
       "      <td>0.916522</td>\n",
       "      <td>...</td>\n",
       "      <td>1.0</td>\n",
       "      <td>1.000000</td>\n",
       "      <td>1.000000</td>\n",
       "      <td>1.000000</td>\n",
       "      <td>1.000000</td>\n",
       "      <td>1.0</td>\n",
       "      <td>1.0</td>\n",
       "      <td>0.912125</td>\n",
       "      <td>1.000000</td>\n",
       "      <td>1.00000</td>\n",
       "    </tr>\n",
       "  </tbody>\n",
       "</table>\n",
       "<p>5 rows × 141 columns</p>\n",
       "</div>"
      ],
      "text/plain": [
       "citation       100 F.3d 1443  109 F.3d 1484  109 F.3d 521  111 F.3d 1447  \\\n",
       "citation                                                                   \n",
       "100 F.3d 1443       0.000000            1.0      0.857143            1.0   \n",
       "109 F.3d 1484       1.000000            0.0      1.000000            1.0   \n",
       "109 F.3d 521        0.857143            1.0      0.000000            1.0   \n",
       "111 F.3d 1447       1.000000            1.0      1.000000            0.0   \n",
       "117 F.3d 1520       0.923640            1.0      0.933185            1.0   \n",
       "\n",
       "citation       117 F.3d 1520  123 F.3d 1142  126 F.3d 1118  14 F.3d 1324  \\\n",
       "citation                                                                   \n",
       "100 F.3d 1443       0.923640       0.840833       0.812956      0.838376   \n",
       "109 F.3d 1484       1.000000       1.000000       1.000000      1.000000   \n",
       "109 F.3d 521        0.933185       0.767881       0.890891      0.858579   \n",
       "111 F.3d 1447       1.000000       1.000000       1.000000      1.000000   \n",
       "117 F.3d 1520       0.000000       0.900742       1.000000      0.735425   \n",
       "\n",
       "citation       142 F.3d 1170  143 F.3d 515      ...       952 F.2d 297  \\\n",
       "citation                                        ...                      \n",
       "100 F.3d 1443            1.0      0.776895      ...                1.0   \n",
       "109 F.3d 1484            1.0      1.000000      ...                1.0   \n",
       "109 F.3d 521             1.0      0.960957      ...                1.0   \n",
       "111 F.3d 1447            1.0      1.000000      ...                1.0   \n",
       "117 F.3d 1520            1.0      0.916522      ...                1.0   \n",
       "\n",
       "citation       954 F.2d 1441  958 F.2d 290  96 F.3d 434  97 F.3d 1161  \\\n",
       "citation                                                                \n",
       "100 F.3d 1443       0.857143      0.840281     0.878171      0.857143   \n",
       "109 F.3d 1484       1.000000      1.000000     1.000000      1.000000   \n",
       "109 F.3d 521        0.937500      1.000000     0.946700      1.000000   \n",
       "111 F.3d 1447       1.000000      1.000000     1.000000      1.000000   \n",
       "117 F.3d 1520       1.000000      1.000000     1.000000      1.000000   \n",
       "\n",
       "citation       982 F.2d 1342  985 F.2d 1397  986 F.2d 1568  99 F.3d 334  \\\n",
       "citation                                                                  \n",
       "100 F.3d 1443            1.0            1.0       0.859087     0.917521   \n",
       "109 F.3d 1484            1.0            1.0       0.835601     1.000000   \n",
       "109 F.3d 521             1.0            1.0       0.917801     1.000000   \n",
       "111 F.3d 1447            1.0            1.0       1.000000     1.000000   \n",
       "117 F.3d 1520            1.0            1.0       0.912125     1.000000   \n",
       "\n",
       "citation       998 F.2d 699  \n",
       "citation                     \n",
       "100 F.3d 1443       0.96182  \n",
       "109 F.3d 1484       1.00000  \n",
       "109 F.3d 521        1.00000  \n",
       "111 F.3d 1447       1.00000  \n",
       "117 F.3d 1520       1.00000  \n",
       "\n",
       "[5 rows x 141 columns]"
      ]
     },
     "execution_count": 23,
     "metadata": {},
     "output_type": "execute_result"
    }
   ],
   "source": [
    "broader_cir_distance.head()"
   ]
  },
  {
   "cell_type": "code",
   "execution_count": 24,
   "metadata": {},
   "outputs": [
    {
     "data": {
      "text/plain": [
       "True"
      ]
     },
     "execution_count": 24,
     "metadata": {},
     "output_type": "execute_result"
    }
   ],
   "source": [
    "'848 F.2d 1441' in list(broader_cir_distance.columns)"
   ]
  },
  {
   "cell_type": "code",
   "execution_count": null,
   "metadata": {},
   "outputs": [],
   "source": [
    "# Here are the cases that are most similar to 848 F.2d 1441, Conner v. Burford.\n",
    "# Case available at https://elr.info/sites/default/files/litigation/15.20608.htm\n",
    "\n",
    "(broader_cir_distance['848 F.2d 1441']).sort_values(ascending=True)"
   ]
  },
  {
   "cell_type": "code",
   "execution_count": 26,
   "metadata": {},
   "outputs": [],
   "source": [
    "broader_cir_distance.to_pickle('./case_recommender')"
   ]
  },
  {
   "cell_type": "code",
   "execution_count": null,
   "metadata": {},
   "outputs": [],
   "source": []
  }
 ],
 "metadata": {
  "kernelspec": {
   "display_name": "Python 3",
   "language": "python",
   "name": "python3"
  },
  "language_info": {
   "codemirror_mode": {
    "name": "ipython",
    "version": 3
   },
   "file_extension": ".py",
   "mimetype": "text/x-python",
   "name": "python",
   "nbconvert_exporter": "python",
   "pygments_lexer": "ipython3",
   "version": "3.6.5"
  }
 },
 "nbformat": 4,
 "nbformat_minor": 2
}
