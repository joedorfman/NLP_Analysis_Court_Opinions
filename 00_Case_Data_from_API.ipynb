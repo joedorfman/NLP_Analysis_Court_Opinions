{
 "cells": [
  {
   "cell_type": "code",
   "execution_count": 2,
   "metadata": {},
   "outputs": [],
   "source": [
    "import pandas as pd\n",
    "import numpy as np\n",
    "import datetime as dt\n",
    "import time\n",
    "import requests\n",
    "import json\n",
    "\n",
    "from bs4 import BeautifulSoup \n",
    "np.random.seed(42)"
   ]
  },
  {
   "cell_type": "code",
   "execution_count": 3,
   "metadata": {},
   "outputs": [],
   "source": [
    "full_list=[]"
   ]
  },
  {
   "cell_type": "code",
   "execution_count": 4,
   "metadata": {},
   "outputs": [],
   "source": [
    "header = {'Authorization': 'Token '}"
   ]
  },
  {
   "cell_type": "code",
   "execution_count": 19,
   "metadata": {},
   "outputs": [],
   "source": [
    "URL_base=\"https://www.courtlistener.com/api/rest/v3/search/?q=ESA+and+Section+7+and+endangered&type=o&order_by=score+desc&stat_Precedential=on&court=ca9&page=\""
   ]
  },
  {
   "cell_type": "code",
   "execution_count": 1,
   "metadata": {},
   "outputs": [],
   "source": [
    "URL_base3=\"https://www.courtlistener.com/api/rest/v3/search/?q=ESA+and+Section+7+and+endangered&type=o&order_by=score+desc&stat_Precedential=on&court=ca1+ca2+ca3+ca4+ca5+ca6+ca7+ca8+ca10+ca11+cadc&page=\""
   ]
  },
  {
   "cell_type": "code",
   "execution_count": 21,
   "metadata": {},
   "outputs": [
    {
     "name": "stdout",
     "output_type": "stream",
     "text": [
      "https://www.courtlistener.com/api/rest/v3/search/?q=ESA+and+Section+7+and+endangered&type=o&order_by=score+desc&stat_Precedential=on&court=ca9&page=1\n",
      "https://www.courtlistener.com/api/rest/v3/search/?q=ESA+and+Section+7+and+endangered&type=o&order_by=score+desc&stat_Precedential=on&court=ca9&page=2\n",
      "https://www.courtlistener.com/api/rest/v3/search/?q=ESA+and+Section+7+and+endangered&type=o&order_by=score+desc&stat_Precedential=on&court=ca9&page=3\n",
      "https://www.courtlistener.com/api/rest/v3/search/?q=ESA+and+Section+7+and+endangered&type=o&order_by=score+desc&stat_Precedential=on&court=ca9&page=4\n",
      "https://www.courtlistener.com/api/rest/v3/search/?q=ESA+and+Section+7+and+endangered&type=o&order_by=score+desc&stat_Precedential=on&court=ca9&page=5\n",
      "https://www.courtlistener.com/api/rest/v3/search/?q=ESA+and+Section+7+and+endangered&type=o&order_by=score+desc&stat_Precedential=on&court=ca9&page=6\n",
      "https://www.courtlistener.com/api/rest/v3/search/?q=ESA+and+Section+7+and+endangered&type=o&order_by=score+desc&stat_Precedential=on&court=ca9&page=7\n",
      "https://www.courtlistener.com/api/rest/v3/search/?q=ESA+and+Section+7+and+endangered&type=o&order_by=score+desc&stat_Precedential=on&court=ca9&page=8\n",
      "https://www.courtlistener.com/api/rest/v3/search/?q=ESA+and+Section+7+and+endangered&type=o&order_by=score+desc&stat_Precedential=on&court=ca9&page=9\n",
      "https://www.courtlistener.com/api/rest/v3/search/?q=ESA+and+Section+7+and+endangered&type=o&order_by=score+desc&stat_Precedential=on&court=ca9&page=10\n",
      "https://www.courtlistener.com/api/rest/v3/search/?q=ESA+and+Section+7+and+endangered&type=o&order_by=score+desc&stat_Precedential=on&court=ca9&page=11\n",
      "https://www.courtlistener.com/api/rest/v3/search/?q=ESA+and+Section+7+and+endangered&type=o&order_by=score+desc&stat_Precedential=on&court=ca9&page=12\n",
      "https://www.courtlistener.com/api/rest/v3/search/?q=ESA+and+Section+7+and+endangered&type=o&order_by=score+desc&stat_Precedential=on&court=ca9&page=13\n",
      "https://www.courtlistener.com/api/rest/v3/search/?q=ESA+and+Section+7+and+endangered&type=o&order_by=score+desc&stat_Precedential=on&court=ca9&page=14\n"
     ]
    }
   ],
   "source": [
    "# Get 9th circuit appeals court data\n",
    "\n",
    "dfs=[]\n",
    "for i in range (1, 15):\n",
    "    URL=URL_base+str(i)\n",
    "    print(URL)\n",
    "    response = requests.get(URL, headers=header)\n",
    "    mytext=response.json()\n",
    "    df=pd.DataFrame(mytext['results'])\n",
    "    dfs+=[df]"
   ]
  },
  {
   "cell_type": "code",
   "execution_count": 22,
   "metadata": {},
   "outputs": [],
   "source": [
    "# Concetenate all the data I just downloaded\n",
    "\n",
    "circuit_courts=pd.concat(dfs, ignore_index=True)"
   ]
  },
  {
   "cell_type": "code",
   "execution_count": 23,
   "metadata": {},
   "outputs": [
    {
     "data": {
      "text/plain": [
       "(264, 39)"
      ]
     },
     "execution_count": 23,
     "metadata": {},
     "output_type": "execute_result"
    }
   ],
   "source": [
    "circuit_courts.shape"
   ]
  },
  {
   "cell_type": "code",
   "execution_count": 6,
   "metadata": {},
   "outputs": [
    {
     "name": "stdout",
     "output_type": "stream",
     "text": [
      "https://www.courtlistener.com/api/rest/v3/search/?q=ESA+and+Section+7+and+endangered&type=o&order_by=score+desc&stat_Precedential=on&court=ca1+ca2+ca3+ca4+ca5+ca6+ca7+ca8+ca10+ca11+cadc&page=1\n",
      "https://www.courtlistener.com/api/rest/v3/search/?q=ESA+and+Section+7+and+endangered&type=o&order_by=score+desc&stat_Precedential=on&court=ca1+ca2+ca3+ca4+ca5+ca6+ca7+ca8+ca10+ca11+cadc&page=2\n",
      "https://www.courtlistener.com/api/rest/v3/search/?q=ESA+and+Section+7+and+endangered&type=o&order_by=score+desc&stat_Precedential=on&court=ca1+ca2+ca3+ca4+ca5+ca6+ca7+ca8+ca10+ca11+cadc&page=3\n",
      "https://www.courtlistener.com/api/rest/v3/search/?q=ESA+and+Section+7+and+endangered&type=o&order_by=score+desc&stat_Precedential=on&court=ca1+ca2+ca3+ca4+ca5+ca6+ca7+ca8+ca10+ca11+cadc&page=4\n",
      "https://www.courtlistener.com/api/rest/v3/search/?q=ESA+and+Section+7+and+endangered&type=o&order_by=score+desc&stat_Precedential=on&court=ca1+ca2+ca3+ca4+ca5+ca6+ca7+ca8+ca10+ca11+cadc&page=5\n",
      "https://www.courtlistener.com/api/rest/v3/search/?q=ESA+and+Section+7+and+endangered&type=o&order_by=score+desc&stat_Precedential=on&court=ca1+ca2+ca3+ca4+ca5+ca6+ca7+ca8+ca10+ca11+cadc&page=6\n",
      "https://www.courtlistener.com/api/rest/v3/search/?q=ESA+and+Section+7+and+endangered&type=o&order_by=score+desc&stat_Precedential=on&court=ca1+ca2+ca3+ca4+ca5+ca6+ca7+ca8+ca10+ca11+cadc&page=7\n",
      "https://www.courtlistener.com/api/rest/v3/search/?q=ESA+and+Section+7+and+endangered&type=o&order_by=score+desc&stat_Precedential=on&court=ca1+ca2+ca3+ca4+ca5+ca6+ca7+ca8+ca10+ca11+cadc&page=8\n",
      "https://www.courtlistener.com/api/rest/v3/search/?q=ESA+and+Section+7+and+endangered&type=o&order_by=score+desc&stat_Precedential=on&court=ca1+ca2+ca3+ca4+ca5+ca6+ca7+ca8+ca10+ca11+cadc&page=9\n",
      "https://www.courtlistener.com/api/rest/v3/search/?q=ESA+and+Section+7+and+endangered&type=o&order_by=score+desc&stat_Precedential=on&court=ca1+ca2+ca3+ca4+ca5+ca6+ca7+ca8+ca10+ca11+cadc&page=10\n",
      "https://www.courtlistener.com/api/rest/v3/search/?q=ESA+and+Section+7+and+endangered&type=o&order_by=score+desc&stat_Precedential=on&court=ca1+ca2+ca3+ca4+ca5+ca6+ca7+ca8+ca10+ca11+cadc&page=11\n"
     ]
    }
   ],
   "source": [
    "# Get DC and other circuit appeals court data\n",
    "\n",
    "dfs=[]\n",
    "for i in range (1, 12):\n",
    "    URL=URL_base3+str(i)\n",
    "    print(URL)\n",
    "    response = requests.get(URL, headers=header)\n",
    "    mytext=response.json()\n",
    "    df=pd.DataFrame(mytext['results'])\n",
    "    dfs+=[df]"
   ]
  },
  {
   "cell_type": "code",
   "execution_count": 7,
   "metadata": {},
   "outputs": [],
   "source": [
    "# Concetenate all the data I just downloaded\n",
    "\n",
    "circuit_courts_dc=pd.concat(dfs, ignore_index=True)"
   ]
  },
  {
   "cell_type": "code",
   "execution_count": 8,
   "metadata": {},
   "outputs": [
    {
     "data": {
      "text/plain": [
       "(208, 39)"
      ]
     },
     "execution_count": 8,
     "metadata": {},
     "output_type": "execute_result"
    }
   ],
   "source": [
    "circuit_courts_dc.shape"
   ]
  },
  {
   "cell_type": "code",
   "execution_count": 27,
   "metadata": {},
   "outputs": [],
   "source": [
    "circuit_courts.to_pickle('./circuit')"
   ]
  },
  {
   "cell_type": "code",
   "execution_count": 9,
   "metadata": {},
   "outputs": [],
   "source": [
    "circuit_courts_dc.to_pickle('./circuit_dc')"
   ]
  },
  {
   "cell_type": "code",
   "execution_count": 1,
   "metadata": {},
   "outputs": [],
   "source": [
    "URL_base4=\"https://www.courtlistener.com/api/rest/v3/search/?type=o&q=ESA+and+Section+7+and+endangered&type=o&order_by=score+desc&stat_Precedential=on&court=akd+azd+cacd+caed+cand+casd+hid+idd+mtd+ord+waed+wawd&page=\""
   ]
  },
  {
   "cell_type": "code",
   "execution_count": 5,
   "metadata": {},
   "outputs": [
    {
     "name": "stdout",
     "output_type": "stream",
     "text": [
      "https://www.courtlistener.com/api/rest/v3/search/?type=o&q=ESA+and+Section+7+and+endangered&type=o&order_by=score+desc&stat_Precedential=on&court=akd+azd+cacd+caed+cand+casd+hid+idd+mtd+ord+waed+wawd&page=1\n",
      "\n",
      "https://www.courtlistener.com/api/rest/v3/search/?type=o&q=ESA+and+Section+7+and+endangered&type=o&order_by=score+desc&stat_Precedential=on&court=akd+azd+cacd+caed+cand+casd+hid+idd+mtd+ord+waed+wawd&page=2\n",
      "\n",
      "https://www.courtlistener.com/api/rest/v3/search/?type=o&q=ESA+and+Section+7+and+endangered&type=o&order_by=score+desc&stat_Precedential=on&court=akd+azd+cacd+caed+cand+casd+hid+idd+mtd+ord+waed+wawd&page=3\n",
      "\n",
      "https://www.courtlistener.com/api/rest/v3/search/?type=o&q=ESA+and+Section+7+and+endangered&type=o&order_by=score+desc&stat_Precedential=on&court=akd+azd+cacd+caed+cand+casd+hid+idd+mtd+ord+waed+wawd&page=4\n",
      "\n",
      "https://www.courtlistener.com/api/rest/v3/search/?type=o&q=ESA+and+Section+7+and+endangered&type=o&order_by=score+desc&stat_Precedential=on&court=akd+azd+cacd+caed+cand+casd+hid+idd+mtd+ord+waed+wawd&page=5\n",
      "\n",
      "https://www.courtlistener.com/api/rest/v3/search/?type=o&q=ESA+and+Section+7+and+endangered&type=o&order_by=score+desc&stat_Precedential=on&court=akd+azd+cacd+caed+cand+casd+hid+idd+mtd+ord+waed+wawd&page=6\n",
      "\n",
      "https://www.courtlistener.com/api/rest/v3/search/?type=o&q=ESA+and+Section+7+and+endangered&type=o&order_by=score+desc&stat_Precedential=on&court=akd+azd+cacd+caed+cand+casd+hid+idd+mtd+ord+waed+wawd&page=7\n",
      "\n",
      "https://www.courtlistener.com/api/rest/v3/search/?type=o&q=ESA+and+Section+7+and+endangered&type=o&order_by=score+desc&stat_Precedential=on&court=akd+azd+cacd+caed+cand+casd+hid+idd+mtd+ord+waed+wawd&page=8\n",
      "\n",
      "https://www.courtlistener.com/api/rest/v3/search/?type=o&q=ESA+and+Section+7+and+endangered&type=o&order_by=score+desc&stat_Precedential=on&court=akd+azd+cacd+caed+cand+casd+hid+idd+mtd+ord+waed+wawd&page=9\n",
      "\n",
      "https://www.courtlistener.com/api/rest/v3/search/?type=o&q=ESA+and+Section+7+and+endangered&type=o&order_by=score+desc&stat_Precedential=on&court=akd+azd+cacd+caed+cand+casd+hid+idd+mtd+ord+waed+wawd&page=10\n",
      "\n",
      "https://www.courtlistener.com/api/rest/v3/search/?type=o&q=ESA+and+Section+7+and+endangered&type=o&order_by=score+desc&stat_Precedential=on&court=akd+azd+cacd+caed+cand+casd+hid+idd+mtd+ord+waed+wawd&page=11\n",
      "\n",
      "https://www.courtlistener.com/api/rest/v3/search/?type=o&q=ESA+and+Section+7+and+endangered&type=o&order_by=score+desc&stat_Precedential=on&court=akd+azd+cacd+caed+cand+casd+hid+idd+mtd+ord+waed+wawd&page=12\n",
      "\n",
      "https://www.courtlistener.com/api/rest/v3/search/?type=o&q=ESA+and+Section+7+and+endangered&type=o&order_by=score+desc&stat_Precedential=on&court=akd+azd+cacd+caed+cand+casd+hid+idd+mtd+ord+waed+wawd&page=13\n",
      "\n"
     ]
    }
   ],
   "source": [
    "# Get expanded district court data from all federal district courts\n",
    "\n",
    "dfs=[]\n",
    "for i in range (1, 14):\n",
    "    URL=URL_base4+str(i)\n",
    "    print(URL)\n",
    "    print()\n",
    "    response = requests.get(URL, headers=header)\n",
    "    mytext=response.json()\n",
    "    df=pd.DataFrame(mytext['results'])\n",
    "    dfs+=[df]"
   ]
  },
  {
   "cell_type": "code",
   "execution_count": 6,
   "metadata": {},
   "outputs": [],
   "source": [
    "# Concetenate all the data I just downloaded\n",
    "\n",
    "all_district_courts=pd.concat(dfs, ignore_index=True)"
   ]
  },
  {
   "cell_type": "code",
   "execution_count": 7,
   "metadata": {},
   "outputs": [
    {
     "data": {
      "text/plain": [
       "(260, 39)"
      ]
     },
     "execution_count": 7,
     "metadata": {},
     "output_type": "execute_result"
    }
   ],
   "source": [
    "all_district_courts.shape"
   ]
  },
  {
   "cell_type": "code",
   "execution_count": 8,
   "metadata": {},
   "outputs": [],
   "source": [
    "all_district_courts.to_pickle('./alldistrict')"
   ]
  },
  {
   "cell_type": "code",
   "execution_count": null,
   "metadata": {},
   "outputs": [],
   "source": []
  }
 ],
 "metadata": {
  "kernelspec": {
   "display_name": "Python 3",
   "language": "python",
   "name": "python3"
  },
  "language_info": {
   "codemirror_mode": {
    "name": "ipython",
    "version": 3
   },
   "file_extension": ".py",
   "mimetype": "text/x-python",
   "name": "python",
   "nbconvert_exporter": "python",
   "pygments_lexer": "ipython3",
   "version": "3.6.5"
  }
 },
 "nbformat": 4,
 "nbformat_minor": 2
}
