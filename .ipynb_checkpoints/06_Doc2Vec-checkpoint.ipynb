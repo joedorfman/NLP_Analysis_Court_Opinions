{
 "cells": [
  {
   "cell_type": "code",
   "execution_count": 1,
   "metadata": {},
   "outputs": [],
   "source": [
    "import pandas as pd\n",
    "import numpy as np\n",
    "from gensim.models.doc2vec import Doc2Vec, TaggedDocument\n",
    "from sklearn.decomposition import PCA\n",
    "import matplotlib.pyplot as plt\n",
    "from sklearn.preprocessing import StandardScaler\n",
    "from sklearn.manifold import TSNE\n",
    "from sklearn.metrics.pairwise import pairwise_distances, cosine_similarity\n",
    "import collections\n",
    "np.random.seed(42)\n",
    "\n",
    "import math"
   ]
  },
  {
   "cell_type": "code",
   "execution_count": 2,
   "metadata": {},
   "outputs": [],
   "source": [
    "# Load in processed full text of the court cases\n",
    "\n",
    "df=pd.read_pickle('./assets/processed_text')"
   ]
  },
  {
   "cell_type": "code",
   "execution_count": 3,
   "metadata": {},
   "outputs": [
    {
     "data": {
      "text/plain": [
       "(247, 41)"
      ]
     },
     "execution_count": 3,
     "metadata": {},
     "output_type": "execute_result"
    }
   ],
   "source": [
    "df.shape"
   ]
  },
  {
   "cell_type": "code",
   "execution_count": 4,
   "metadata": {},
   "outputs": [],
   "source": [
    "# Drop cases that lack all case citation information\n",
    "\n",
    "df=df.dropna(subset=['citation'])"
   ]
  },
  {
   "cell_type": "code",
   "execution_count": 5,
   "metadata": {},
   "outputs": [],
   "source": [
    "# Clean up the citation entries, so that they are strings, not strings \n",
    "# contained in a list.\n",
    "\n",
    "df['citation']=df['citation'].map(lambda x: x[0])"
   ]
  },
  {
   "cell_type": "code",
   "execution_count": 6,
   "metadata": {},
   "outputs": [],
   "source": [
    "df=df.drop_duplicates(subset=['citation'])"
   ]
  },
  {
   "cell_type": "code",
   "execution_count": 7,
   "metadata": {},
   "outputs": [],
   "source": [
    "def make_tagged_document(row):\n",
    "    return TaggedDocument(words=row['text2'],\n",
    "                          tags=[row['id']])\n",
    "    "
   ]
  },
  {
   "cell_type": "code",
   "execution_count": 8,
   "metadata": {},
   "outputs": [],
   "source": [
    "tagged_data=df.apply(lambda row: make_tagged_document(row), axis=1)"
   ]
  },
  {
   "cell_type": "code",
   "execution_count": 9,
   "metadata": {},
   "outputs": [],
   "source": [
    "\n",
    "model = Doc2Vec(vector_size=40,  \n",
    "                min_count=20,\n",
    "                epochs=40,\n",
    "               dm=0)\n"
   ]
  },
  {
   "cell_type": "code",
   "execution_count": 10,
   "metadata": {},
   "outputs": [],
   "source": [
    "model.build_vocab(tagged_data)"
   ]
  },
  {
   "cell_type": "code",
   "execution_count": 11,
   "metadata": {},
   "outputs": [],
   "source": [
    "model.train(tagged_data,\n",
    "           total_examples=model.corpus_count,\n",
    "           epochs=model.epochs)\n"
   ]
  },
  {
   "cell_type": "code",
   "execution_count": null,
   "metadata": {},
   "outputs": [],
   "source": []
  },
  {
   "cell_type": "code",
   "execution_count": null,
   "metadata": {},
   "outputs": [],
   "source": []
  },
  {
   "cell_type": "code",
   "execution_count": 12,
   "metadata": {},
   "outputs": [],
   "source": [
    "# Assemble document vectors into a list\n",
    "\n",
    "doc_vectors=[model.docvecs[i] for i in df.index]\n"
   ]
  },
  {
   "cell_type": "code",
   "execution_count": 13,
   "metadata": {},
   "outputs": [],
   "source": [
    "# Stack dcoument vectors into a 2-D array\n",
    "\n",
    "X=np.vstack(doc_vectors)"
   ]
  },
  {
   "cell_type": "code",
   "execution_count": 14,
   "metadata": {},
   "outputs": [],
   "source": [
    "# Put the Doc2Vec embeddings into a dedicated dataframe\n",
    "\n",
    "dfX=pd.DataFrame(X, index=df['citation'])"
   ]
  },
  {
   "cell_type": "code",
   "execution_count": 15,
   "metadata": {},
   "outputs": [],
   "source": [
    "# Calculate cosin distance between each circuit court case\n",
    "# in terms of Word2Vec embeddings\n",
    "\n",
    "distances=pairwise_distances(dfX, metric='cosine')"
   ]
  },
  {
   "cell_type": "code",
   "execution_count": 16,
   "metadata": {},
   "outputs": [],
   "source": [
    "# Organize distances into a dataframe\n",
    "\n",
    "df_distances=pd.DataFrame(distances, index=dfX.index, columns=dfX.index)"
   ]
  },
  {
   "cell_type": "code",
   "execution_count": 17,
   "metadata": {},
   "outputs": [],
   "source": [
    "# Import inter-case distances, in terms of \n",
    "# similar patterns of case citation, i.e., cases that were \n",
    "# similarly cited/recommended by users (i.e., lower courts)\n",
    "\n",
    "rec_distances=pd.read_pickle('./assets/case_recommender')"
   ]
  },
  {
   "cell_type": "code",
   "execution_count": 18,
   "metadata": {},
   "outputs": [],
   "source": [
    "# Remove a duplicate row that was lurking in the table\n",
    "\n",
    "rec_distances=rec_distances.drop_duplicates().T.drop_duplicates().T"
   ]
  },
  {
   "cell_type": "code",
   "execution_count": 19,
   "metadata": {},
   "outputs": [],
   "source": [
    "# The support for the two different pair distance matrices is not \n",
    "# quite the same.  Can only compare for the subset of court cases\n",
    "# for which we have inter-case distances based both on similar Word2Vec\n",
    "# embeddings and based on similiar citation.\n",
    "\n",
    "overlap=list(set(rec_distances.columns)&set(df_distances.columns))"
   ]
  },
  {
   "cell_type": "code",
   "execution_count": 20,
   "metadata": {},
   "outputs": [],
   "source": [
    "word_distances=df_distances[overlap].T[overlap].T"
   ]
  },
  {
   "cell_type": "code",
   "execution_count": 21,
   "metadata": {},
   "outputs": [],
   "source": [
    "cite_distances=rec_distances[overlap].T[overlap].T"
   ]
  },
  {
   "cell_type": "code",
   "execution_count": 22,
   "metadata": {},
   "outputs": [
    {
     "data": {
      "text/plain": [
       "(126, 126)"
      ]
     },
     "execution_count": 22,
     "metadata": {},
     "output_type": "execute_result"
    }
   ],
   "source": [
    "word_distances.shape"
   ]
  },
  {
   "cell_type": "code",
   "execution_count": 23,
   "metadata": {},
   "outputs": [
    {
     "data": {
      "text/plain": [
       "(126, 126)"
      ]
     },
     "execution_count": 23,
     "metadata": {},
     "output_type": "execute_result"
    }
   ],
   "source": [
    "cite_distances.shape"
   ]
  },
  {
   "cell_type": "code",
   "execution_count": 24,
   "metadata": {},
   "outputs": [],
   "source": [
    "corr_list=[]\n",
    "for item in word_distances.columns:\n",
    "    xvals=[x for x in cite_distances[item] if x != 0]\n",
    "    yvals=[y for y in word_distances[item] if y != 0]\n",
    "\n",
    "    corr_list+=[np.corrcoef(xvals, yvals)[0][1]]"
   ]
  },
  {
   "cell_type": "code",
   "execution_count": 25,
   "metadata": {},
   "outputs": [
    {
     "data": {
      "image/png": "[encoded data removed]",
      "text/plain": [
       "<Figure size 432x288 with 1 Axes>"
      ]
     },
     "metadata": {},
     "output_type": "display_data"
    }
   ],
   "source": [
    "plt.hist(corr_list, bins=10)\n",
    "plt.axvline(-.015, color=\"red\", ls='--')\n",
    "plt.axvline(.0015, color=\"red\", ls='--')\n",
    "plt.axvspan(-.015, .0015, alpha=0.5, color='red')\n",
    "plt.xlabel('corelation value')\n",
    "plt.ylabel('number of cases that had this corelation')\n",
    "plt.savefig('./assets/avgcorr2')"
   ]
  },
  {
   "cell_type": "code",
   "execution_count": 26,
   "metadata": {},
   "outputs": [
    {
     "data": {
      "text/plain": [
       "0.0042299176331083346"
      ]
     },
     "execution_count": 26,
     "metadata": {},
     "output_type": "execute_result"
    }
   ],
   "source": [
    "np.mean(corr_list)"
   ]
  },
  {
   "cell_type": "markdown",
   "metadata": {},
   "source": [
    "# B. Run a bootstrapping analysis to understand the variability of the average correllation."
   ]
  },
  {
   "cell_type": "code",
   "execution_count": 27,
   "metadata": {},
   "outputs": [
    {
     "name": "stdout",
     "output_type": "stream",
     "text": [
      "-0.009855791298546843\n",
      "0.018051702575849003\n",
      "0.004097955866315123\n"
     ]
    },
    {
     "data": {
      "image/png": "[encoded data removed]",
      "text/plain": [
       "<Figure size 432x288 with 1 Axes>"
      ]
     },
     "metadata": {},
     "output_type": "display_data"
    }
   ],
   "source": [
    "\n",
    "len(corr_list)\n",
    "\n",
    "def get_bootstrap_mean(corr_list):\n",
    "    newlist=[]\n",
    "    for i in range(len(corr_list)):\n",
    "        newlist.append(np.random.choice(corr_list))\n",
    "    return np.mean(newlist)\n",
    "\n",
    "boot_mean_list=[]\n",
    "for i in range(10000):\n",
    "    boot_mean_list.append(get_bootstrap_mean(corr_list))\n",
    "\n",
    "boot_means=pd.Series(boot_mean_list)\n",
    "\n",
    "boot_means.hist(bins=20)\n",
    "\n",
    "boot_mean_list.sort()\n",
    "\n",
    "print(boot_mean_list[250])\n",
    "\n",
    "print(boot_mean_list[-250])\n",
    "\n",
    "print(boot_mean_list[5000])\n",
    "\n",
    "# We are 95% confident that the average correllation between the Word2Vec embedding\n",
    "# distance and the Citation-based distance is between -.015 and +.00112.\n",
    "\n"
   ]
  },
  {
   "cell_type": "code",
   "execution_count": null,
   "metadata": {},
   "outputs": [],
   "source": []
  },
  {
   "cell_type": "code",
   "execution_count": null,
   "metadata": {},
   "outputs": [],
   "source": []
  }
 ],
 "metadata": {
  "kernelspec": {
   "display_name": "Python 3",
   "language": "python",
   "name": "python3"
  },
  "language_info": {
   "codemirror_mode": {
    "name": "ipython",
    "version": 3
   },
   "file_extension": ".py",
   "mimetype": "text/x-python",
   "name": "python",
   "nbconvert_exporter": "python",
   "pygments_lexer": "ipython3",
   "version": "3.6.5"
  }
 },
 "nbformat": 4,
 "nbformat_minor": 2
}
